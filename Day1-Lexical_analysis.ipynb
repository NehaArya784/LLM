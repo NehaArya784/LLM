{
 "cells": [
  {
   "cell_type": "code",
   "execution_count": 7,
   "id": "dfa6eb2e",
   "metadata": {},
   "outputs": [
    {
     "name": "stderr",
     "output_type": "stream",
     "text": [
      "[nltk_data] Downloading package punkt to\n",
      "[nltk_data]     C:\\Users\\Administrator\\AppData\\Roaming\\nltk_data...\n",
      "[nltk_data]   Unzipping tokenizers\\punkt.zip.\n"
     ]
    },
    {
     "data": {
      "text/plain": [
       "True"
      ]
     },
     "execution_count": 7,
     "metadata": {},
     "output_type": "execute_result"
    }
   ],
   "source": [
    "\n",
    "import nltk\n",
    "nltk.download('punkt')\n"
   ]
  },
  {
   "cell_type": "code",
   "execution_count": 8,
   "id": "86fa00cd",
   "metadata": {},
   "outputs": [],
   "source": [
    "from nltk.tokenize import word_tokenize"
   ]
  },
  {
   "cell_type": "code",
   "execution_count": 9,
   "id": "39999ba0",
   "metadata": {},
   "outputs": [
    {
     "name": "stdout",
     "output_type": "stream",
     "text": [
      "['My', 'name', 'is', 'Neha', '.']\n"
     ]
    }
   ],
   "source": [
    "text='My name is Neha.'\n",
    "words=nltk.word_tokenize(text)\n",
    "print(words)"
   ]
  },
  {
   "cell_type": "markdown",
   "id": "56552a68",
   "metadata": {},
   "source": [
    "### Sentence tokenization"
   ]
  },
  {
   "cell_type": "code",
   "execution_count": 15,
   "id": "c2364dfa",
   "metadata": {},
   "outputs": [
    {
     "name": "stdout",
     "output_type": "stream",
     "text": [
      "Sentence Tokens:  ['I love programming.', \"It's fun!\"]\n"
     ]
    }
   ],
   "source": [
    "from nltk.tokenize import sent_tokenize\n",
    "\n",
    "#Sample text\n",
    "text=\"I love programming. It's fun!\"\n",
    "\n",
    "#Sentence tokenization\n",
    "sentences=sent_tokenize(text)\n",
    "print(\"Sentence Tokens: \", sentences)"
   ]
  },
  {
   "cell_type": "markdown",
   "id": "d7bf26ad",
   "metadata": {},
   "source": [
    "### Character Tokenization\n"
   ]
  },
  {
   "cell_type": "code",
   "execution_count": 16,
   "id": "d7d7912a",
   "metadata": {},
   "outputs": [
    {
     "name": "stdout",
     "output_type": "stream",
     "text": [
      "Character Tokenization:  ['E', 'd', 'u', 'c', 'a', 't', 'i', 'o', 'n']\n"
     ]
    }
   ],
   "source": [
    "#Example word\n",
    "\n",
    "word=\"Education\"\n",
    "\n",
    "#Character Tokenization(Mannual Splitting)\n",
    "char_tokens=list(word)\n",
    "\n",
    "#Print the words\n",
    "print(\"Character Tokenization: \",char_tokens)\n"
   ]
  },
  {
   "cell_type": "markdown",
   "id": "a73da2b2",
   "metadata": {},
   "source": [
    "### Whitespace tokenize "
   ]
  },
  {
   "cell_type": "code",
   "execution_count": 17,
   "id": "d059200f",
   "metadata": {},
   "outputs": [
    {
     "name": "stdout",
     "output_type": "stream",
     "text": [
      "Whitespace Tokenization:  ['I', 'love', 'programming.', \"It's\", 'fun!']\n"
     ]
    }
   ],
   "source": [
    "#Whitespace Tokenization(splitting based on space)\n",
    "\n",
    "whitespace_tokens=text.split()\n",
    "\n",
    "#Print the result\n",
    "print(\"Whitespace Tokenization: \",whitespace_tokens)"
   ]
  },
  {
   "cell_type": "code",
   "execution_count": null,
   "id": "d460025c",
   "metadata": {},
   "outputs": [],
   "source": []
  }
 ],
 "metadata": {
  "kernelspec": {
   "display_name": "base",
   "language": "python",
   "name": "python3"
  },
  "language_info": {
   "codemirror_mode": {
    "name": "ipython",
    "version": 3
   },
   "file_extension": ".py",
   "mimetype": "text/x-python",
   "name": "python",
   "nbconvert_exporter": "python",
   "pygments_lexer": "ipython3",
   "version": "3.11.3"
  }
 },
 "nbformat": 4,
 "nbformat_minor": 5
}
