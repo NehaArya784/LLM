{
 "cells": [
  {
   "cell_type": "markdown",
   "id": "b3766b85",
   "metadata": {},
   "source": [
    "<div style=\"background-color: #add9e6ff; padding: 10px; height: 70px; border-radius: 15px;\">\n",
    "    <div style=\"font-family: 'Georgia', serif; font-size: 20px; padding: 10px; text-align: right; position: absolute; right: 20px;\">\n",
    "    Neha <br>\n",
    "        <span style=\"font-family: 'Arial', sans-serif;font-size: 12px; color: #0a0a0a;\">Tech Skills Trainee <b>|LLM JOT|</b> <!--- Devashish Kumar | CodroidHub Private Limited | AI/ML Consultant --->\n",
    "    </div>\n",
    "</div>"
   ]
  },
  {
   "cell_type": "markdown",
   "id": "74587e1a",
   "metadata": {},
   "source": [
    "<div style=\"background-color: #002147; padding: 10px; text-align: center; color: white; font-size: 32px; font-family: 'Arial', sans-serif;\">\n",
    "    INTRO TO NLP<br>\n",
    "    <h3 style=\"text-align: center; color: white; font-size: 15px; font-family: 'Arial', sans-serif;\"></h3>\n",
    "</div>"
   ]
  },
  {
   "cell_type": "markdown",
   "id": "ebc6a48b",
   "metadata": {},
   "source": [
    "<div style=\"background-color: lightgreen; color: black; padding: 4px;\">\n",
    "    <h3>  What is AI?\n",
    "</h3> </div>"
   ]
  },
  {
   "cell_type": "markdown",
   "id": "8da2c3e4",
   "metadata": {},
   "source": [
    "<b>\"Artificial Intelligence\"</b> is the broadest field focused on making machines smart.\n",
    "\n",
    "<b><h5>Broadest field we mean:</b></h5>\"AI covers a wide range of methods,techniques,and goals to make machines act smart-not just learning from data.\"\n",
    "\n",
    "It enables simulations of human intelligence in the machines.\n",
    "\n",
    "<b>Examples:</b>Expert systems,robotics,voice assistants."
   ]
  },
  {
   "cell_type": "markdown",
   "id": "9f51ee0f",
   "metadata": {},
   "source": [
    "<div style=\"background-color: lightgreen; color: black; padding: 4px;\">\n",
    "    <h3>  What is ML?\n",
    "</h3> </div>"
   ]
  },
  {
   "cell_type": "markdown",
   "id": "25d2e22b",
   "metadata": {},
   "source": [
    "<b>\"Machine learning\"</b> is a subfield of AI focused on learning from data.\n",
    "\n",
    "It enables systems to learn automatically and improve with data.\n",
    "\n",
    "<b>Examples:</b>Spam filtering,fraud detection,recommendation engines."
   ]
  },
  {
   "cell_type": "markdown",
   "id": "9cc6a889",
   "metadata": {},
   "source": [
    "<div style=\"background-color: lightgreen; color: black; padding: 4px;\">\n",
    "    <h3>  What is DL?\n",
    "</h3> </div>"
   ]
  },
  {
   "cell_type": "markdown",
   "id": "dc54205a",
   "metadata": {},
   "source": [
    "<b>\"Deep Learning\"</b> is a subfield of ML focused on learning using deep naural networks.\n",
    "\n",
    "They memic human brain's neural networks for high level data learning.\n",
    "\n",
    "<b>Example:</b>Image recognition,speech recognition,autonomous driving."
   ]
  },
  {
   "cell_type": "markdown",
   "id": "8b94c7cf",
   "metadata": {},
   "source": [
    "<div style=\"background-color: lightgreen; color: black; padding: 4px;\">\n",
    "    <h3>  Domains of AI?\n",
    "</h3> </div>"
   ]
  },
  {
   "cell_type": "markdown",
   "id": "028067e1",
   "metadata": {},
   "source": [
    "<b>\"A Domain</b> is a particular topic or area where something is applied,studied,or used.\"\n",
    "\n",
    "<b>\"A domain in Artifial Intelligence</b> refers to a specific area of field where artificial intelligence techniques are applied to solve problems or perform tasks.\"\n",
    "\n",
    "### <B>Domains of AI</B>\n",
    "\n",
    "##### 1. Computer Vision(CV):[Interpreting images and videos]->CNN and RNN\n",
    "##### 2. Natural Language Processing(NLP):[Understanding and generating human languages]->Chatbots,Alexa,Siri\n",
    "##### 3. Statistical Data(ST):[CSV, Excel]->Recommendation & Prediction using historical data"
   ]
  },
  {
   "cell_type": "markdown",
   "id": "e9df7af8",
   "metadata": {},
   "source": []
  },
  {
   "cell_type": "markdown",
   "id": "64479ac5",
   "metadata": {},
   "source": [
    "<div style=\"background-color: lightgreen; color: black; padding: 4px;\">\n",
    "    <h3>  What is NLP?\n",
    "</h3> </div>"
   ]
  },
  {
   "cell_type": "markdown",
   "id": "46375d0e",
   "metadata": {},
   "source": [
    "<b>Natural Language Processing (NLP)</b> is a subfield of Artificial Intelligence (AI) that focuses on the \n",
    "interaction between computers and human (natural) languages.\n",
    "\n",
    "<b>NLP lies at the intersection of linguistics, computer science, and AI, combining the rules and \n",
    "structure of human language with computational algorithms to bridge the gap between human \n",
    "communication and machine understanding.</b>\n",
    "\n",
    "->It enables machines to understand, interpret, and generate human language in a way that is \n",
    "meaningful and useful\n",
    "\n",
    "->It connects linguistics + computer science + AI to bridge the communication gap between humans and machines."
   ]
  },
  {
   "cell_type": "markdown",
   "id": "18f1b093",
   "metadata": {},
   "source": [
    "<div style=\"background-color: lightgreen; color: black; padding: 4px;\">\n",
    "    <h3>  Why Do We Need NLP?\n",
    "\n",
    "</h3> </div>"
   ]
  },
  {
   "cell_type": "markdown",
   "id": "2b2ca952",
   "metadata": {},
   "source": [
    "<b>1.Human Language is Complex:</b>\n",
    "\n",
    " • Human language is inherently ambiguous, nuanced, and diverse. Teaching machines to \n",
    "comprehend slang, context, sentiment, grammar, and syntax requires robust systems \n",
    "like NLP.\n",
    "\n",
    "<b>2.Exponential Growth of Data:</b>\n",
    "\n",
    " • With the explosion of digital communication, vast amounts of unstructured data (emails, \n",
    "social media, reviews, articles, etc.) are generated daily. NLP helps extract valuable \n",
    "insights from this data.\n",
    "\n",
    "<b>3.Efficient Human-Machine Interaction:</b>\n",
    "\n",
    " • NLP enables more natural and effective communication between humans and machines, \n",
    "eliminating the need for specialized commands or programming languages\n",
    "\n",
    "<b>4.Text Classification:</b>\n",
    "\n",
    " • Categorizing text into predefined labels, such as spam detection or sentiment analysis.\n",
    " Information Retrieval:\n",
    " • Extracting and ranking relevant data or insights from large datasets based on specific \n",
    "user queries.\n",
    "\n",
    "<b>5.Natural Language Understanding:</b>\n",
    "\n",
    " • Recognizing patterns, analyzing meaning, and deriving insights from text or speech.\n",
    "\n",
    "<b>6.Natural Language Generation:</b>\n",
    "\n",
    " • Crafting coherent and contextually accurate responses, such as chatbots and virtual \n",
    "assistants\n",
    "\n",
    "<b>Some other poits are:</b>\n",
    "\n",
    "\n",
    "✅ Human language is complex—full of slang, emotion, and multiple meanings.\n",
    "\n",
    "✅ We generate tons of text daily (emails, tweets, reviews).\n",
    "\n",
    "✅ NLP helps machines make sense of this chaos—making human-computer interaction smarter.\n"
   ]
  },
  {
   "cell_type": "markdown",
   "id": "3afb2306",
   "metadata": {},
   "source": [
    "<div style=\"background-color: lightgreen; color: black; padding: 4px;\">\n",
    "    <h3> Applications of NLP in the Real World\n",
    "\n",
    "</h3> </div>"
   ]
  },
  {
   "cell_type": "markdown",
   "id": "c6224db6",
   "metadata": {},
   "source": [
    "<b>1.Personal Assistants:</b>\n",
    "\n",
    " • Google Assistant, Siri, and Alexa rely on NLP to understand and respond to voice \n",
    "commands.\n",
    "\n",
    "<b>2.Machine Translation:</b>\n",
    "\n",
    " • Tools like Google Translate leverage NLP for accurate translations across languages.\n",
    "\n",
    "<b>3.Customer Support:</b>\n",
    "\n",
    " • Chatbots powered by NLP provide 24/7 assistance for customer queries.\n",
    " \n",
    "<b>4.Sentiment Analysis:</b>\n",
    "\n",
    " • Businesses use NLP to analyze customer feedback and social media sentiment.\n",
    " \n",
    "<b>5.Text Summarization:</b>\n",
    "\n",
    " • Automatically condensing large texts into summaries (e.g., news articles).\n",
    "\n",
    "<b>6.Healthcare:</b>\n",
    "\n",
    " • Extracting information from patient records or assisting in diagnostics.\n",
    "\n",
    "<b>7.Search Engines:</b>\n",
    " • Enhancing user queries for more relevant search results."
   ]
  },
  {
   "cell_type": "markdown",
   "id": "8232e2dc",
   "metadata": {},
   "source": [
    "\n",
    "🗣️ Virtual Assistants like Alexa, Siri\n",
    "\n",
    "🌐 Translation Tools like Google Translate\n",
    "\n",
    "🤖 Chatbots for customer support\n",
    "\n",
    "📊 Sentiment Analysis of reviews and social media\n",
    "\n",
    "🩺 Healthcare Insights from patient notes\n",
    "\n",
    "🔍 Search Engines to understand your intent better\n"
   ]
  },
  {
   "cell_type": "markdown",
   "id": "33befe10",
   "metadata": {},
   "source": [
    "<div style=\"background-color: lightgreen; color: black; padding: 4px;\">\n",
    "    <h3> Historical Background of NLP \n",
    "\n",
    "</h3> </div>"
   ]
  },
  {
   "cell_type": "markdown",
   "id": "bbf005c7",
   "metadata": {},
   "source": [
    "<b><h2>1.1950s – Foundational Era:</b></h2>\n",
    "\n",
    "--Alan Turing proposed the <b>Turing Test</b> to assess a machine's ability to exhibit intelligent behavior akin to humans.\n",
    "\n",
    "<h3><b>What is Turing Test?</h3></b>\n",
    "The Turing Test is a test to check if a machine can think and respond like a human.\n",
    "\n",
    "<b>🔹 Explanation:</b>\n",
    "\n",
    "->Proposed by Alan Turing in 1950.\n",
    "\n",
    "->In the test, a human judge talks to both a machine and another human through a computer.\n",
    "\n",
    "->If the judge can’t tell which one is the machine, the machine is said to have passed the test.\n",
    "\n",
    "->It means the machine’s behavior is so intelligent that it feels like talking to a real person.\n",
    "\n",
    "<b>✅ Purpose of Turing Test:</b>\n",
    "\n",
    "To measure Artificial Intelligence — whether a machine can think, reason, and communicate like a human being.\n",
    "\n",
    "\n",
    "\n"
   ]
  },
  {
   "cell_type": "markdown",
   "id": "f2861a54",
   "metadata": {},
   "source": [
    "\n",
    "\n",
    "\n",
    "\n",
    "--Early machine translation efforts, such as the <b>Georgetown-IBM experiment</b>,aimed to translate Russian to English."
   ]
  },
  {
   "cell_type": "markdown",
   "id": "a812ffed",
   "metadata": {},
   "source": [
    "<h3><b>What is Georgetown-IBM experiment</h3></b>"
   ]
  },
  {
   "cell_type": "markdown",
   "id": "51fa1471",
   "metadata": {},
   "source": [
    "->Early computer programs tried to translate Russian into English. One famous attempt was the Georgetown-IBM experiment.\n",
    "\n",
    "<b>🔹 Explanation:</b>\n",
    "\n",
    "->The Georgetown-IBM experiment happened in 1954.\n",
    "\n",
    "->It was one of the first machine translation projects.\n",
    "\n",
    "->A computer translated Russian sentences into English automatically.\n",
    "\n",
    "->It showed that machines could help with language translation, starting the field of Machine Translation (MT).\n",
    "\n"
   ]
  },
  {
   "cell_type": "markdown",
   "id": "3517eeb2",
   "metadata": {},
   "source": [
    "<h2><b>2.1960s – Rule-Based Systems:</h2></b>\n",
    "\n",
    "--Initial NLP systems were based on hand-crafted rules and linguistic grammar."
   ]
  },
  {
   "cell_type": "markdown",
   "id": "1479de15",
   "metadata": {},
   "source": [
    "<b>Explanation:</b>\n",
    "\n",
    "<b>1.Initial NLP Systems:</b>\n",
    "\n",
    "-These were the first computer programs designed to understand or process human language.\n",
    "\n",
    "<b>2.Hand-Crafted Rules:</b>\n",
    "\n",
    "-Humans (usually linguists or programmers) wrote specific rules by hand.\n",
    "\n",
    "Example:\n",
    "\n",
    "Rule: If you see \"is eating\", it means present continuous tense.\n",
    "\n",
    "<b>3.Linguistic Grammar:</b>\n",
    "\n",
    "-These systems were based on grammar rules of a language — like sentence structure, verb forms, tenses, etc.\n",
    "\n"
   ]
  },
  {
   "cell_type": "markdown",
   "id": "6d307fb9",
   "metadata": {},
   "source": [
    "<h2><b>3.1980s – Statistical Methods:</h2></b>\n",
    "\n",
    "--The introduction of statistical and probabilistic models revolutionized NLP, \n",
    "making systems more scalable and robust."
   ]
  },
  {
   "cell_type": "markdown",
   "id": "e0489b09",
   "metadata": {},
   "source": [
    "When NLP started using math-based models (statistics and probability), it became more powerful, flexible, and accurate.\n",
    "\n",
    "<b><h3>🔍 Detailed Explanation:</b></h3>\n",
    "\n",
    "🔸 1. Statistical and Probabilistic Models:\n",
    "These are models that use data and math to make decisions or predictions.\n",
    "\n",
    "Instead of using fixed rules, they learn patterns from large amounts of text.\n",
    "\n",
    "Example:\n",
    "If \"thank you\" is often followed by \"very much,\" the system learns that pattern and predicts it.\n",
    "\n",
    "🔸 2. Revolutionized NLP:\n",
    "This approach transformed the way NLP worked.\n",
    "\n",
    "Systems became smarter, could handle more real-world language, and improved over time.\n",
    "\n",
    "🔸 3. Scalable:\n",
    "These models could be applied to large amounts of data (like books, websites, chats).\n",
    "\n",
    "More data → Better performance\n",
    "\n",
    "🔸 4. Robust:\n",
    "They became more accurate and reliable.\n",
    "\n",
    "Could handle mistakes, variations, and complex sentences better than rule-based systems."
   ]
  },
  {
   "cell_type": "markdown",
   "id": "8bf0d2fb",
   "metadata": {},
   "source": [
    "<b><h2>4. 2000s – Data-Driven Approaches:</b></h2>\n",
    "\n",
    "The rise of machine learning (ML) techniques, particularly supervised learning, \n",
    "boosted NLP's capabilities."
   ]
  },
  {
   "cell_type": "markdown",
   "id": "bf459d5c",
   "metadata": {},
   "source": [
    "<b>When machine learning, especially supervised learning, became popular, it made Natural Language Processing (NLP) much better and more powerful.</b>\n",
    "\n",
    "<h3><b>🔍 Detailed Explanation:</b></h3>\n",
    "\n",
    "🔸 1. Machine Learning (ML):\n",
    "\n",
    "-A type of AI where computers learn from data instead of being programmed with fixed rules.\n",
    "\n",
    "-In NLP, ML helps machines understand language by learning from examples.\n",
    "\n",
    "🔸 2. Supervised Learning:\n",
    "\n",
    "-A type of ML where the system learns using labeled data (data with correct answers).\n",
    "\n",
    "->Example:\n",
    "\n",
    "If we give the machine 1,000 examples of positive and negative movie reviews, it learns to classify new reviews.\n",
    "\n",
    "🔸 3. Boosted NLP's Capabilities:\n",
    "\n",
    "->Made NLP systems:\n",
    "\n",
    "-Smarter and more accurate\n",
    "\n",
    "-Better at understanding real-world language\n",
    "\n",
    "-Capable of tasks like spam detection, sentiment analysis, chatbots, etc.\n",
    "\n"
   ]
  },
  {
   "cell_type": "markdown",
   "id": "23b2ec96",
   "metadata": {},
   "source": [
    "<h2><b>5. 2010s – Deep Learning Revolution:</h2></b>\n",
    "\n",
    "Neural networks, transformers (like BERT, GPT), and large language models led \n",
    "to unprecedented advancements in NLP.\n"
   ]
  },
  {
   "cell_type": "markdown",
   "id": "671dde5b",
   "metadata": {},
   "source": [
    "<b>New AI technologies like neural networks, transformers (such as BERT and GPT), and large language models have made NLP more advanced and powerful than ever before.</b>\n",
    "\n"
   ]
  },
  {
   "cell_type": "markdown",
   "id": "fbf12ae4",
   "metadata": {},
   "source": [
    "<h3><b>Explanation:</h3></b>\n",
    "\n",
    "🔸 1. Neural Networks:\n",
    "\n",
    "-Inspired by the human brain\n",
    "\n",
    "-These are computer models that learn patterns in data (like language)\n",
    "\n",
    "-Used for tasks like translation, speech recognition, and sentiment analysis\n",
    "\n",
    "🔸 2. Transformers (BERT, GPT):\n",
    "\n",
    "-A special type of neural network developed in recent years\n",
    "\n",
    "-Can understand the meaning of words in context\n",
    "\n",
    "-BERT: Good at understanding text\n",
    "\n",
    "-GPT: Good at generating text\n",
    "\n",
    "🔸 3. Large Language Models (LLMs):\n",
    "\n",
    "-Very big AI models trained on huge amounts of text\n",
    "\n",
    "-They understand and generate human-like language\n",
    "\n",
    "->Examples: ChatGPT, Google Bard, Claude\n",
    "\n",
    "<b><h3>🚀 Unprecedented Advancements:</b></h3>\n",
    "\n",
    "->These models have made huge improvements in:\n",
    "\n",
    "->Answering questions\n",
    "\n",
    "->Summarizing documents\n",
    "\n",
    "->Generating essays, stories, code\n",
    "\n",
    "->Powering chatbots and virtual assistants\n",
    "\n"
   ]
  },
  {
   "cell_type": "markdown",
   "id": "29190978",
   "metadata": {},
   "source": []
  }
 ],
 "metadata": {
  "kernelspec": {
   "display_name": "base",
   "language": "python",
   "name": "python3"
  },
  "language_info": {
   "name": "python",
   "version": "3.11.3"
  }
 },
 "nbformat": 4,
 "nbformat_minor": 5
}
