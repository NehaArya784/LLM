{
 "cells": [
  {
   "cell_type": "markdown",
   "id": "b3766b85",
   "metadata": {},
   "source": [
    "<div style=\"background-color: #add8e6; padding: 10px; height: 70px; border-radius: 15px;\">\n",
    "    <div style=\"font-family: 'Georgia', serif; font-size: 20px; padding: 10px; text-align: right; position: absolute; right: 20px;\">\n",
    "        Neha <br>\n",
    "        <span style=\"font-family: 'Arial', sans-serif;font-size: 12px; color: #0a0a0a;\">Tech Skills Trainee <b>| LLM JOT|</b> <!--- Devashish Kumar | CodroidHub Private Limited | AI/ML Consultant --->\n",
    "    </div>\n",
    "</div>"
   ]
  },
  {
   "cell_type": "markdown",
   "id": "74587e1a",
   "metadata": {},
   "source": [
    "<div style=\"background-color: #002147; padding: 10px; text-align: center; color: white; font-size: 32px; font-family: 'Arial', sans-serif;\">\n",
    "    INTRO TO NLP<br>\n",
    "    <h3 style=\"text-align: center; color: white; font-size: 15px; font-family: 'Arial', sans-serif;\"></h3>\n",
    "</div>"
   ]
  },
  {
   "cell_type": "markdown",
   "id": "ebc6a48b",
   "metadata": {},
   "source": [
    "<div style=\"background-color: lightgreen; color: black; padding: 4px;\">\n",
    "    <h3>  What is AI?\n",
    "</h3> </div>"
   ]
  },
  {
   "cell_type": "markdown",
   "id": "8da2c3e4",
   "metadata": {},
   "source": [
    "<b>\"Artificial Intelligence\"</b> is the broadest field focused on making machines smart.\n",
    "\n",
    "<b><h5>Broadest field we mean:</b></h5>\"AI covers a wide range of methods,techniques,and goals to make machines act smart-not just learning from data.\"\n",
    "\n",
    "It enables simulations of human intelligence in the machines.\n",
    "\n",
    "<b>Examples:</b>Expert systems,robotics,voice assistants."
   ]
  },
  {
   "cell_type": "markdown",
   "id": "9f51ee0f",
   "metadata": {},
   "source": [
    "<div style=\"background-color: lightgreen; color: black; padding: 4px;\">\n",
    "    <h3>  What is ML?\n",
    "</h3> </div>"
   ]
  },
  {
   "cell_type": "markdown",
   "id": "25d2e22b",
   "metadata": {},
   "source": [
    "<b>\"Machine learning\"</b> is a subfield of AI focused on learning from data.\n",
    "\n",
    "It enables systems to learn automatically and improve with data.\n",
    "\n",
    "<b>Examples:</b>Spam filtering,fraud detection,recommendation engines."
   ]
  },
  {
   "cell_type": "markdown",
   "id": "9cc6a889",
   "metadata": {},
   "source": [
    "<div style=\"background-color: lightgreen; color: black; padding: 4px;\">\n",
    "    <h3>  What is DL?\n",
    "</h3> </div>"
   ]
  },
  {
   "cell_type": "markdown",
   "id": "dc54205a",
   "metadata": {},
   "source": [
    "<b>\"Deep Learning\"</b> is a subfield of ML focused on learning using deep naural networks.\n",
    "\n",
    "They memic human brain's neural networks for high level data learning.\n",
    "\n",
    "<b>Example:</b>Image recognition,speech recognition,autonomous driving."
   ]
  },
  {
   "cell_type": "markdown",
   "id": "8b94c7cf",
   "metadata": {},
   "source": [
    "<div style=\"background-color: lightgreen; color: black; padding: 4px;\">\n",
    "    <h3>  Domains of AI?\n",
    "</h3> </div>"
   ]
  },
  {
   "cell_type": "markdown",
   "id": "028067e1",
   "metadata": {},
   "source": [
    "<b>\"A Domain</b> is a particular topic or area where something is applied,studied,or used.\"\n",
    "\n",
    "<b>\"A domain in Artifial Intelligence</b> refers to a specific area of field where artificial intelligence techniques are applied to solve problems or perform tasks.\"\n",
    "\n",
    "### <B>Domains of AI</B>\n",
    "\n",
    "##### 1. Computer Vision(CV):[Interpreting images and videos]->CNN and RNN\n",
    "##### 2. Natural Language Processing(NLP):[Understanding and generating human languages]->Chatbots,Alexa,Siri\n",
    "##### 3. Statistical Data(ST):[CSV, Excel]->Recommendation & Prediction using historical data"
   ]
  },
  {
   "cell_type": "markdown",
   "id": "e9df7af8",
   "metadata": {},
   "source": []
  },
  {
   "cell_type": "markdown",
   "id": "64479ac5",
   "metadata": {},
   "source": [
    "<div style=\"background-color: lightgreen; color: black; padding: 4px;\">\n",
    "    <h3>  What is NLP?\n",
    "</h3> </div>"
   ]
  },
  {
   "cell_type": "markdown",
   "id": "46375d0e",
   "metadata": {},
   "source": [
    "<b>Natural Language Processing (NLP)</b> is a subfield of Artificial Intelligence (AI) that focuses on the \n",
    "interaction between computers and human (natural) languages.\n",
    "\n",
    " It enables machines to understand, interpret, and generate human language in a way that is \n",
    "meaningful and useful"
   ]
  },
  {
   "cell_type": "markdown",
   "id": "18f1b093",
   "metadata": {},
   "source": []
  }
 ],
 "metadata": {
  "kernelspec": {
   "display_name": "base",
   "language": "python",
   "name": "python3"
  },
  "language_info": {
   "name": "python",
   "version": "3.11.3"
  }
 },
 "nbformat": 4,
 "nbformat_minor": 5
}
